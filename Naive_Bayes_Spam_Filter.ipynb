{
 "cells": [
  {
   "cell_type": "markdown",
   "metadata": {
    "collapsed": true
   },
   "source": [
    "# A Naive Bayes approach to filter SMS messages and discard Spam\n",
    "\n",
    "Spam text messages and/or emails are not just used to target individuals to market new products but on ocassion they are also armed with malicious intent to gather sensitive information about the individual in unethical ways.\n",
    "\n",
    "Combating spam can be a fairly tedious process if done manually, but the process can be automated to classify new and incoming messages as legitimate (ham) or spam based on probabilistic approach.\n",
    "\n",
    "This project discusses the approach to building a Multinomial Naive Bayes spam filter. The training dataset was put together by Tiago A. Almeida and José María Gómez Hidalgo, and it can be downloaded from the [UCI Machine Learning Repository](https://archive.ics.uci.edu/ml/datasets/sms+spam+collection). You can also download the dataset directly from this [link](https://dq-content.s3.amazonaws.com/433/SMSSpamCollection). The data collection process is described in details [on this page](http://www.dt.fee.unicamp.br/~tiago/smsspamcollection/#composition)."
   ]
  },
  {
   "cell_type": "code",
   "execution_count": 1,
   "metadata": {
    "collapsed": true
   },
   "outputs": [],
   "source": [
    "import pandas as pd\n",
    "import numpy as np\n",
    "\n",
    "sms = pd.read_csv(\"SMSSpamCollection\",sep=\"\\t\",header=None,names=[\"Label\",\"SMS\"])"
   ]
  },
  {
   "cell_type": "code",
   "execution_count": 2,
   "metadata": {
    "collapsed": false
   },
   "outputs": [
    {
     "data": {
      "text/html": [
       "<div>\n",
       "<style scoped>\n",
       "    .dataframe tbody tr th:only-of-type {\n",
       "        vertical-align: middle;\n",
       "    }\n",
       "\n",
       "    .dataframe tbody tr th {\n",
       "        vertical-align: top;\n",
       "    }\n",
       "\n",
       "    .dataframe thead th {\n",
       "        text-align: right;\n",
       "    }\n",
       "</style>\n",
       "<table border=\"1\" class=\"dataframe\">\n",
       "  <thead>\n",
       "    <tr style=\"text-align: right;\">\n",
       "      <th></th>\n",
       "      <th>Label</th>\n",
       "      <th>SMS</th>\n",
       "    </tr>\n",
       "  </thead>\n",
       "  <tbody>\n",
       "    <tr>\n",
       "      <th>0</th>\n",
       "      <td>ham</td>\n",
       "      <td>Go until jurong point, crazy.. Available only ...</td>\n",
       "    </tr>\n",
       "    <tr>\n",
       "      <th>1</th>\n",
       "      <td>ham</td>\n",
       "      <td>Ok lar... Joking wif u oni...</td>\n",
       "    </tr>\n",
       "    <tr>\n",
       "      <th>2</th>\n",
       "      <td>spam</td>\n",
       "      <td>Free entry in 2 a wkly comp to win FA Cup fina...</td>\n",
       "    </tr>\n",
       "    <tr>\n",
       "      <th>3</th>\n",
       "      <td>ham</td>\n",
       "      <td>U dun say so early hor... U c already then say...</td>\n",
       "    </tr>\n",
       "    <tr>\n",
       "      <th>4</th>\n",
       "      <td>ham</td>\n",
       "      <td>Nah I don't think he goes to usf, he lives aro...</td>\n",
       "    </tr>\n",
       "  </tbody>\n",
       "</table>\n",
       "</div>"
      ],
      "text/plain": [
       "  Label                                                SMS\n",
       "0   ham  Go until jurong point, crazy.. Available only ...\n",
       "1   ham                      Ok lar... Joking wif u oni...\n",
       "2  spam  Free entry in 2 a wkly comp to win FA Cup fina...\n",
       "3   ham  U dun say so early hor... U c already then say...\n",
       "4   ham  Nah I don't think he goes to usf, he lives aro..."
      ]
     },
     "execution_count": 2,
     "metadata": {},
     "output_type": "execute_result"
    }
   ],
   "source": [
    "sms.head(5)"
   ]
  },
  {
   "cell_type": "code",
   "execution_count": 3,
   "metadata": {
    "collapsed": false
   },
   "outputs": [
    {
     "data": {
      "text/html": [
       "<div>\n",
       "<style scoped>\n",
       "    .dataframe tbody tr th:only-of-type {\n",
       "        vertical-align: middle;\n",
       "    }\n",
       "\n",
       "    .dataframe tbody tr th {\n",
       "        vertical-align: top;\n",
       "    }\n",
       "\n",
       "    .dataframe thead th {\n",
       "        text-align: right;\n",
       "    }\n",
       "</style>\n",
       "<table border=\"1\" class=\"dataframe\">\n",
       "  <thead>\n",
       "    <tr style=\"text-align: right;\">\n",
       "      <th></th>\n",
       "      <th>Label</th>\n",
       "      <th>SMS</th>\n",
       "    </tr>\n",
       "  </thead>\n",
       "  <tbody>\n",
       "    <tr>\n",
       "      <th>5567</th>\n",
       "      <td>spam</td>\n",
       "      <td>This is the 2nd time we have tried 2 contact u...</td>\n",
       "    </tr>\n",
       "    <tr>\n",
       "      <th>5568</th>\n",
       "      <td>ham</td>\n",
       "      <td>Will ü b going to esplanade fr home?</td>\n",
       "    </tr>\n",
       "    <tr>\n",
       "      <th>5569</th>\n",
       "      <td>ham</td>\n",
       "      <td>Pity, * was in mood for that. So...any other s...</td>\n",
       "    </tr>\n",
       "    <tr>\n",
       "      <th>5570</th>\n",
       "      <td>ham</td>\n",
       "      <td>The guy did some bitching but I acted like i'd...</td>\n",
       "    </tr>\n",
       "    <tr>\n",
       "      <th>5571</th>\n",
       "      <td>ham</td>\n",
       "      <td>Rofl. Its true to its name</td>\n",
       "    </tr>\n",
       "  </tbody>\n",
       "</table>\n",
       "</div>"
      ],
      "text/plain": [
       "     Label                                                SMS\n",
       "5567  spam  This is the 2nd time we have tried 2 contact u...\n",
       "5568   ham               Will ü b going to esplanade fr home?\n",
       "5569   ham  Pity, * was in mood for that. So...any other s...\n",
       "5570   ham  The guy did some bitching but I acted like i'd...\n",
       "5571   ham                         Rofl. Its true to its name"
      ]
     },
     "execution_count": 3,
     "metadata": {},
     "output_type": "execute_result"
    }
   ],
   "source": [
    "sms.tail(5)"
   ]
  },
  {
   "cell_type": "code",
   "execution_count": 4,
   "metadata": {
    "collapsed": false
   },
   "outputs": [
    {
     "data": {
      "text/plain": [
       "ham     86.593683\n",
       "spam    13.406317\n",
       "Name: Label, dtype: float64"
      ]
     },
     "execution_count": 4,
     "metadata": {},
     "output_type": "execute_result"
    }
   ],
   "source": [
    "sms[\"Label\"].value_counts(normalize=True)*100"
   ]
  },
  {
   "cell_type": "markdown",
   "metadata": {},
   "source": [
    "The training dataset has 5572 rows (sms messages), of which ~86.6% are designated as \"ham\" implying that it is a genuine message where as the remaining 13.4% are classified as \"spam\"."
   ]
  },
  {
   "cell_type": "markdown",
   "metadata": {},
   "source": [
    "## Spliting the dataset into training and testing sets\n",
    "\n",
    "To assess the performance of our approach we split the dataset into training and testing sets. We employ an 80/20 training to testing split i.e. 80% of the dataset is assigned for training our algorithm while 20% is reserved for testing."
   ]
  },
  {
   "cell_type": "code",
   "execution_count": 5,
   "metadata": {
    "collapsed": true
   },
   "outputs": [],
   "source": [
    "sms_random = sms.sample(frac=1,random_state=1)"
   ]
  },
  {
   "cell_type": "code",
   "execution_count": 6,
   "metadata": {
    "collapsed": false
   },
   "outputs": [],
   "source": [
    "train_index = round(len(sms_random)*0.8)"
   ]
  },
  {
   "cell_type": "code",
   "execution_count": 7,
   "metadata": {
    "collapsed": false
   },
   "outputs": [],
   "source": [
    "sms_train = sms_random[:train_index].reset_index(drop=True)\n",
    "sms_test = sms_random[train_index:].reset_index(drop=True)"
   ]
  },
  {
   "cell_type": "code",
   "execution_count": 8,
   "metadata": {
    "collapsed": false
   },
   "outputs": [
    {
     "data": {
      "text/plain": [
       "ham     86.54105\n",
       "spam    13.45895\n",
       "Name: Label, dtype: float64"
      ]
     },
     "execution_count": 8,
     "metadata": {},
     "output_type": "execute_result"
    }
   ],
   "source": [
    "sms_train[\"Label\"].value_counts(normalize=True)*100"
   ]
  },
  {
   "cell_type": "code",
   "execution_count": 9,
   "metadata": {
    "collapsed": false
   },
   "outputs": [
    {
     "data": {
      "text/plain": [
       "ham     86.804309\n",
       "spam    13.195691\n",
       "Name: Label, dtype: float64"
      ]
     },
     "execution_count": 9,
     "metadata": {},
     "output_type": "execute_result"
    }
   ],
   "source": [
    "sms_test[\"Label\"].value_counts(normalize=True)*100"
   ]
  },
  {
   "cell_type": "markdown",
   "metadata": {},
   "source": [
    "The distribution between \"ham\" and \"spam\" messages in both training and testing datasets is very similar to the distribution in the original dataset."
   ]
  },
  {
   "cell_type": "markdown",
   "metadata": {},
   "source": [
    "## Removing punctuation and other irrelevant characters"
   ]
  },
  {
   "cell_type": "code",
   "execution_count": 10,
   "metadata": {
    "collapsed": false
   },
   "outputs": [
    {
     "name": "stdout",
     "output_type": "stream",
     "text": [
      "  Label                                                SMS\n",
      "0   ham                       Yep, by the pretty sculpture\n",
      "1   ham      Yes, princess. Are you going to make me moan?\n",
      "2   ham                         Welp apparently he retired\n",
      "3   ham                                            Havent.\n",
      "4   ham  I forgot 2 ask ü all smth.. There's a card on ...\n",
      "5   ham  Ok i thk i got it. Then u wan me 2 come now or...\n",
      "6   ham  I want kfc its Tuesday. Only buy 2 meals ONLY ...\n",
      "7   ham                         No dear i was sleeping :-P\n",
      "8   ham                          Ok pa. Nothing problem:-)\n",
      "9   ham                    Ill be there on  &lt;#&gt;  ok.\n"
     ]
    },
    {
     "data": {
      "text/html": [
       "<div>\n",
       "<style scoped>\n",
       "    .dataframe tbody tr th:only-of-type {\n",
       "        vertical-align: middle;\n",
       "    }\n",
       "\n",
       "    .dataframe tbody tr th {\n",
       "        vertical-align: top;\n",
       "    }\n",
       "\n",
       "    .dataframe thead th {\n",
       "        text-align: right;\n",
       "    }\n",
       "</style>\n",
       "<table border=\"1\" class=\"dataframe\">\n",
       "  <thead>\n",
       "    <tr style=\"text-align: right;\">\n",
       "      <th></th>\n",
       "      <th>Label</th>\n",
       "      <th>SMS</th>\n",
       "    </tr>\n",
       "  </thead>\n",
       "  <tbody>\n",
       "    <tr>\n",
       "      <th>0</th>\n",
       "      <td>ham</td>\n",
       "      <td>yep  by the pretty sculpture</td>\n",
       "    </tr>\n",
       "    <tr>\n",
       "      <th>1</th>\n",
       "      <td>ham</td>\n",
       "      <td>yes  princess  are you going to make me moan</td>\n",
       "    </tr>\n",
       "    <tr>\n",
       "      <th>2</th>\n",
       "      <td>ham</td>\n",
       "      <td>welp apparently he retired</td>\n",
       "    </tr>\n",
       "    <tr>\n",
       "      <th>3</th>\n",
       "      <td>ham</td>\n",
       "      <td>havent</td>\n",
       "    </tr>\n",
       "    <tr>\n",
       "      <th>4</th>\n",
       "      <td>ham</td>\n",
       "      <td>i forgot 2 ask ü all smth   there s a card on ...</td>\n",
       "    </tr>\n",
       "    <tr>\n",
       "      <th>5</th>\n",
       "      <td>ham</td>\n",
       "      <td>ok i thk i got it  then u wan me 2 come now or...</td>\n",
       "    </tr>\n",
       "    <tr>\n",
       "      <th>6</th>\n",
       "      <td>ham</td>\n",
       "      <td>i want kfc its tuesday  only buy 2 meals only ...</td>\n",
       "    </tr>\n",
       "    <tr>\n",
       "      <th>7</th>\n",
       "      <td>ham</td>\n",
       "      <td>no dear i was sleeping   p</td>\n",
       "    </tr>\n",
       "    <tr>\n",
       "      <th>8</th>\n",
       "      <td>ham</td>\n",
       "      <td>ok pa  nothing problem</td>\n",
       "    </tr>\n",
       "    <tr>\n",
       "      <th>9</th>\n",
       "      <td>ham</td>\n",
       "      <td>ill be there on   lt   gt   ok</td>\n",
       "    </tr>\n",
       "  </tbody>\n",
       "</table>\n",
       "</div>"
      ],
      "text/plain": [
       "  Label                                                SMS\n",
       "0   ham                       yep  by the pretty sculpture\n",
       "1   ham      yes  princess  are you going to make me moan \n",
       "2   ham                         welp apparently he retired\n",
       "3   ham                                            havent \n",
       "4   ham  i forgot 2 ask ü all smth   there s a card on ...\n",
       "5   ham  ok i thk i got it  then u wan me 2 come now or...\n",
       "6   ham  i want kfc its tuesday  only buy 2 meals only ...\n",
       "7   ham                         no dear i was sleeping   p\n",
       "8   ham                          ok pa  nothing problem   \n",
       "9   ham                    ill be there on   lt   gt   ok "
      ]
     },
     "execution_count": 10,
     "metadata": {},
     "output_type": "execute_result"
    }
   ],
   "source": [
    "print(sms_train.head(10))\n",
    "\n",
    "sms_train[\"SMS\"] = sms_train[\"SMS\"].str.replace(\"\\W\", \" \")\n",
    "sms_train[\"SMS\"] = sms_train[\"SMS\"].str.lower()\n",
    "\n",
    "sms_train.head(10)"
   ]
  },
  {
   "cell_type": "markdown",
   "metadata": {},
   "source": [
    "## Creating a vocabulary for the dataset\n",
    "\n",
    "To implement the Naive Bayes approach, we need a comprehensive vocabulary of the words used in the sms messages that compose our dataset. "
   ]
  },
  {
   "cell_type": "code",
   "execution_count": 11,
   "metadata": {
    "collapsed": false
   },
   "outputs": [],
   "source": [
    "vocabulary = []\n",
    "sms_train[\"SMS\"] = sms_train[\"SMS\"].str.split()\n",
    "\n",
    "for each in sms_train['SMS']:\n",
    "    for every in each:\n",
    "        vocabulary.append(every)\n",
    "        \n",
    "vocabulary = list(set(vocabulary))"
   ]
  },
  {
   "cell_type": "code",
   "execution_count": 12,
   "metadata": {
    "collapsed": false
   },
   "outputs": [
    {
     "data": {
      "text/plain": [
       "7783"
      ]
     },
     "execution_count": 12,
     "metadata": {},
     "output_type": "execute_result"
    }
   ],
   "source": [
    "n_vocab = len(vocabulary)\n",
    "n_vocab"
   ]
  },
  {
   "cell_type": "code",
   "execution_count": 13,
   "metadata": {
    "collapsed": true
   },
   "outputs": [],
   "source": [
    "word_counts = {unique_word: [0] * len(sms_train['SMS']) for unique_word in vocabulary}\n",
    "\n",
    "for index, sms in enumerate(sms_train['SMS']):\n",
    "    for word in sms:\n",
    "        word_counts[word][index] += 1"
   ]
  },
  {
   "cell_type": "code",
   "execution_count": 14,
   "metadata": {
    "collapsed": false,
    "scrolled": true
   },
   "outputs": [
    {
     "data": {
      "text/plain": [
       "(4458, 7785)"
      ]
     },
     "execution_count": 14,
     "metadata": {},
     "output_type": "execute_result"
    }
   ],
   "source": [
    "word_countss = pd.DataFrame(word_counts)\n",
    "\n",
    "sms_train = pd.concat([sms_train,word_countss],axis=1)\n",
    "sms_train.shape"
   ]
  },
  {
   "cell_type": "markdown",
   "metadata": {},
   "source": [
    "## Determining the probability constants\n",
    "\n",
    "To implement the Naive Bayes approach to our spam filtering problem, we need some prior probabilistic information before we determine the posterior probability of new and incoming messages being classified."
   ]
  },
  {
   "cell_type": "code",
   "execution_count": 15,
   "metadata": {
    "collapsed": false
   },
   "outputs": [
    {
     "name": "stdout",
     "output_type": "stream",
     "text": [
      "The prior probability of a message being 'ham' is 0.8654\n",
      "The prior probability of a message being 'spam' is 0.1346\n"
     ]
    }
   ],
   "source": [
    "def probability_constants(data):\n",
    "    spam = data[data[\"Label\"]==\"spam\"]\n",
    "    ham = data[data[\"Label\"]==\"ham\"]\n",
    "    n = data.shape[0]\n",
    "    \n",
    "    p_ham = (ham.shape[0]/n)\n",
    "    p_spam = (spam.shape[0]/n)\n",
    "    \n",
    "    n_ham = ham[\"SMS\"].apply(len).sum()\n",
    "    n_spam = spam[\"SMS\"].apply(len).sum()\n",
    "    \n",
    "            \n",
    "    return([p_ham,n_ham,p_spam,n_spam])\n",
    "\n",
    "p_ham = probability_constants(sms_train)[0]\n",
    "n_ham = probability_constants(sms_train)[1]\n",
    "p_spam = probability_constants(sms_train)[2]\n",
    "n_spam = probability_constants(sms_train)[3]\n",
    "\n",
    "print(\"The prior probability of a message being 'ham' is {0:.4f}\".format(p_ham))\n",
    "print(\"The prior probability of a message being 'spam' is {0:.4f}\".format(p_spam))\n"
   ]
  },
  {
   "cell_type": "code",
   "execution_count": 16,
   "metadata": {
    "collapsed": false
   },
   "outputs": [],
   "source": [
    "alpha = 1\n",
    "\n",
    "spam = sms_train[sms_train[\"Label\"]==\"spam\"]\n",
    "ham = sms_train[sms_train[\"Label\"]==\"ham\"]\n",
    "\n",
    "ham_word_probability = {unique:0 for unique in vocabulary}\n",
    "spam_word_probability = {unique:0 for unique in vocabulary}\n",
    "\n",
    "for each in vocabulary:\n",
    "    n_word_spam = spam[each].sum()\n",
    "    p_word_spam = (n_word_spam + alpha)/(n_spam + (alpha*n_vocab))\n",
    "    spam_word_probability[each] = p_word_spam\n",
    "    \n",
    "    n_word_ham = ham[each].sum()\n",
    "    p_word_ham = (n_word_ham + alpha)/(n_ham + (alpha*n_vocab))\n",
    "    ham_word_probability[each] = p_word_ham"
   ]
  },
  {
   "cell_type": "code",
   "execution_count": 17,
   "metadata": {
    "collapsed": true
   },
   "outputs": [],
   "source": [
    "import re\n",
    "\n",
    "def spam_filter(new_text):\n",
    "\n",
    "    new_text = re.sub('\\W', ' ', new_text)\n",
    "    new_text = new_text.lower().split()\n",
    "    \n",
    "    p_spam_new_text = p_spam\n",
    "    p_ham_new_text = p_ham\n",
    "    \n",
    "    for each in new_text:\n",
    "        if each in spam_word_probability:\n",
    "            p_spam_new_text *= spam_word_probability[each]\n",
    "        \n",
    "        if each in ham_word_probability:\n",
    "            p_ham_new_text *= ham_word_probability[each]\n",
    "    \n",
    "    if p_ham_new_text > p_spam_new_text:\n",
    "        return (\"ham\")\n",
    "    elif p_ham_new_text < p_spam_new_text:\n",
    "        return ('spam')\n",
    "    else:\n",
    "        print('It is difficult to classify this message as legitimate or spam.')"
   ]
  },
  {
   "cell_type": "code",
   "execution_count": 18,
   "metadata": {
    "collapsed": false,
    "scrolled": true
   },
   "outputs": [
    {
     "data": {
      "text/plain": [
       "'spam'"
      ]
     },
     "execution_count": 18,
     "metadata": {},
     "output_type": "execute_result"
    }
   ],
   "source": [
    "spam_filter('WINNER!! This is the secret code to unlock the money: C3421.')"
   ]
  },
  {
   "cell_type": "code",
   "execution_count": 19,
   "metadata": {
    "collapsed": false,
    "scrolled": true
   },
   "outputs": [
    {
     "data": {
      "text/plain": [
       "'ham'"
      ]
     },
     "execution_count": 19,
     "metadata": {},
     "output_type": "execute_result"
    }
   ],
   "source": [
    "spam_filter(\"Sounds good, Tom, then see u there\")"
   ]
  },
  {
   "cell_type": "markdown",
   "metadata": {},
   "source": [
    "We have built a classifier function which takes as input any new incoming message and is appropriately designate labels whether the message is safe or spam.\n",
    "\n",
    "We can now test the performance of this function against the testing dataset we assigned earlier and judge how efficient our algorithm is."
   ]
  },
  {
   "cell_type": "code",
   "execution_count": 21,
   "metadata": {
    "collapsed": false,
    "scrolled": true
   },
   "outputs": [
    {
     "name": "stdout",
     "output_type": "stream",
     "text": [
      "It is difficult to classify this message as legitimate or spam.\n"
     ]
    },
    {
     "data": {
      "text/html": [
       "<div>\n",
       "<style scoped>\n",
       "    .dataframe tbody tr th:only-of-type {\n",
       "        vertical-align: middle;\n",
       "    }\n",
       "\n",
       "    .dataframe tbody tr th {\n",
       "        vertical-align: top;\n",
       "    }\n",
       "\n",
       "    .dataframe thead th {\n",
       "        text-align: right;\n",
       "    }\n",
       "</style>\n",
       "<table border=\"1\" class=\"dataframe\">\n",
       "  <thead>\n",
       "    <tr style=\"text-align: right;\">\n",
       "      <th></th>\n",
       "      <th>Label</th>\n",
       "      <th>SMS</th>\n",
       "      <th>Predicted_Label</th>\n",
       "    </tr>\n",
       "  </thead>\n",
       "  <tbody>\n",
       "    <tr>\n",
       "      <th>0</th>\n",
       "      <td>ham</td>\n",
       "      <td>Later i guess. I needa do mcat study too.</td>\n",
       "      <td>ham</td>\n",
       "    </tr>\n",
       "    <tr>\n",
       "      <th>1</th>\n",
       "      <td>ham</td>\n",
       "      <td>But i haf enuff space got like 4 mb...</td>\n",
       "      <td>ham</td>\n",
       "    </tr>\n",
       "    <tr>\n",
       "      <th>2</th>\n",
       "      <td>spam</td>\n",
       "      <td>Had your mobile 10 mths? Update to latest Oran...</td>\n",
       "      <td>spam</td>\n",
       "    </tr>\n",
       "    <tr>\n",
       "      <th>3</th>\n",
       "      <td>ham</td>\n",
       "      <td>All sounds good. Fingers . Makes it difficult ...</td>\n",
       "      <td>ham</td>\n",
       "    </tr>\n",
       "    <tr>\n",
       "      <th>4</th>\n",
       "      <td>ham</td>\n",
       "      <td>All done, all handed in. Don't know if mega sh...</td>\n",
       "      <td>ham</td>\n",
       "    </tr>\n",
       "  </tbody>\n",
       "</table>\n",
       "</div>"
      ],
      "text/plain": [
       "  Label                                                SMS Predicted_Label\n",
       "0   ham          Later i guess. I needa do mcat study too.             ham\n",
       "1   ham             But i haf enuff space got like 4 mb...             ham\n",
       "2  spam  Had your mobile 10 mths? Update to latest Oran...            spam\n",
       "3   ham  All sounds good. Fingers . Makes it difficult ...             ham\n",
       "4   ham  All done, all handed in. Don't know if mega sh...             ham"
      ]
     },
     "execution_count": 21,
     "metadata": {},
     "output_type": "execute_result"
    }
   ],
   "source": [
    "sms_test[\"Predicted_Label\"] = sms_test[\"SMS\"].apply(spam_filter)\n",
    "sms_test.head()"
   ]
  },
  {
   "cell_type": "markdown",
   "metadata": {},
   "source": [
    "## Measuring the performance\n",
    "\n",
    "We can assess the performance of the filter by measuring the accuracy of the classification, how many messages were correctly classified and how many were incorrectly classififed."
   ]
  },
  {
   "cell_type": "code",
   "execution_count": 29,
   "metadata": {
    "collapsed": true
   },
   "outputs": [],
   "source": [
    "def accuracy(data):\n",
    "    correctly_done = 0\n",
    "    n = data.shape[0]\n",
    "    \n",
    "    for index,row in data.iterrows():\n",
    "        if (row['Label'] == row[\"Predicted_Label\"]):\n",
    "            correctly_done += 1\n",
    "    \n",
    "    incorrect = n - correctly_done\n",
    "    accuracy = (correctly_done/n)*100\n",
    "    return([accuracy,correctly_done,incorrect,n])\n"
   ]
  },
  {
   "cell_type": "code",
   "execution_count": 30,
   "metadata": {
    "collapsed": false
   },
   "outputs": [
    {
     "name": "stdout",
     "output_type": "stream",
     "text": [
      "The Naive Bayes filter designed to classify new incoming messages as 'Spam' or 'Ham' is accurate upto 98.743% of the time\n"
     ]
    }
   ],
   "source": [
    "filter_performance = accuracy(sms_test)[0]\n",
    "positives = accuracy(sms_test)[1]\n",
    "negatives = accuracy(sms_test)[2]\n",
    "total = accuracy(sms_test)[3]\n",
    "print(\"\"\"The Naive Bayes filter designed to classify new incoming messages as 'Spam' or 'Ham' is accurate upto {0:.3f}% of the time\"\"\".format(filter_performance))"
   ]
  },
  {
   "cell_type": "code",
   "execution_count": 31,
   "metadata": {
    "collapsed": false
   },
   "outputs": [
    {
     "name": "stdout",
     "output_type": "stream",
     "text": [
      "Correctly 1100 classified messages from 1114\n"
     ]
    }
   ],
   "source": [
    "print(\"Correctly {0} classified messages from {1}\".format(positives,total))"
   ]
  },
  {
   "cell_type": "code",
   "execution_count": 32,
   "metadata": {
    "collapsed": false
   },
   "outputs": [
    {
     "name": "stdout",
     "output_type": "stream",
     "text": [
      "Incorrectly 14 classified messages from 1114\n"
     ]
    }
   ],
   "source": [
    "print(\"Incorrectly {0} classified messages from {1}\".format(negatives,total))"
   ]
  },
  {
   "cell_type": "markdown",
   "metadata": {},
   "source": [
    "# Conclusions\n",
    "\n",
    "The Naive Bayes filter performs very well with an accuracy of ~98.7%. The performance can further be enhanced by looking at the 14 misclassified messages and deducing what might have caused their erroneous classification.\n",
    "\n",
    "The overall approach can be improved to deal with mixed case characters, punctuation and potentially text based emoji's. "
   ]
  }
 ],
 "metadata": {
  "kernelspec": {
   "display_name": "Python 3",
   "language": "python",
   "name": "python3"
  },
  "language_info": {
   "codemirror_mode": {
    "name": "ipython",
    "version": 3
   },
   "file_extension": ".py",
   "mimetype": "text/x-python",
   "name": "python",
   "nbconvert_exporter": "python",
   "pygments_lexer": "ipython3",
   "version": "3.4.3"
  }
 },
 "nbformat": 4,
 "nbformat_minor": 4
}
